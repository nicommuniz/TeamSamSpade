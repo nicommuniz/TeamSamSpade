{
 "cells": [
  {
   "cell_type": "code",
   "execution_count": 109,
   "metadata": {},
   "outputs": [],
   "source": [
    "import sqlite3\n",
    "import pandas as pd"
   ]
  },
  {
   "cell_type": "code",
   "execution_count": 86,
   "metadata": {},
   "outputs": [],
   "source": [
    "# Establecer la conexión\n",
    "conexion = sqlite3.connect('Basedatosparte2.db')\n",
    "\n",
    "# Crear un cursor para ejecutar comandos SQL\n",
    "cursor = conexion.cursor()"
   ]
  },
  {
   "cell_type": "code",
   "execution_count": 87,
   "metadata": {},
   "outputs": [],
   "source": [
    "tabla_proveedores = \"\"\"\n",
    "CREATE TABLE IF NOT EXISTS Proveedores (\n",
    "    CodigoProveedor INT PRIMARY KEY,\n",
    "    Nombre VARCHAR(100),\n",
    "    Direccion VARCHAR(200),\n",
    "    Ciudad VARCHAR(100),\n",
    "    Provincia VARCHAR(100)\n",
    ");\"\"\""
   ]
  },
  {
   "cell_type": "code",
   "execution_count": 88,
   "metadata": {},
   "outputs": [
    {
     "data": {
      "text/plain": [
       "<sqlite3.Cursor at 0x110da8fc0>"
      ]
     },
     "execution_count": 88,
     "metadata": {},
     "output_type": "execute_result"
    }
   ],
   "source": [
    "cursor.execute(tabla_proveedores)"
   ]
  },
  {
   "cell_type": "code",
   "execution_count": 89,
   "metadata": {},
   "outputs": [],
   "source": [
    "tabla_categorias = '''\n",
    "CREATE TABLE IF NOT EXISTS Categorias (\n",
    "    CodigoCategoria INT PRIMARY KEY,\n",
    "    Nombre VARCHAR(100)\n",
    ");\n",
    "'''"
   ]
  },
  {
   "cell_type": "code",
   "execution_count": 90,
   "metadata": {},
   "outputs": [
    {
     "data": {
      "text/plain": [
       "<sqlite3.Cursor at 0x110da8fc0>"
      ]
     },
     "execution_count": 90,
     "metadata": {},
     "output_type": "execute_result"
    }
   ],
   "source": [
    "cursor.execute(tabla_categorias)"
   ]
  },
  {
   "cell_type": "code",
   "execution_count": 91,
   "metadata": {},
   "outputs": [],
   "source": [
    "tabla_piezas = '''\n",
    "CREATE TABLE IF NOT EXISTS Piezas (\n",
    "    CodigoPieza INT PRIMARY KEY,\n",
    "    Nombre VARCHAR(100),\n",
    "    Color VARCHAR(50),\n",
    "    Precio DECIMAL(10,2),\n",
    "    CodigoCategoria INT,\n",
    "    FOREIGN KEY (CodigoCategoria) REFERENCES Categorias(CodigoCategoria)\n",
    "    );\n",
    "'''"
   ]
  },
  {
   "cell_type": "code",
   "execution_count": 92,
   "metadata": {},
   "outputs": [
    {
     "data": {
      "text/plain": [
       "<sqlite3.Cursor at 0x110da8fc0>"
      ]
     },
     "execution_count": 92,
     "metadata": {},
     "output_type": "execute_result"
    }
   ],
   "source": [
    "cursor.execute(tabla_piezas)"
   ]
  },
  {
   "cell_type": "code",
   "execution_count": 93,
   "metadata": {},
   "outputs": [],
   "source": [
    "tabla_suministros = \"\"\"\n",
    "CREATE TABLE IF NOT EXISTS Suministros (\n",
    "CodigoProveedor INT,\n",
    "CodigoPieza INT,\n",
    "Fecha DATE,\n",
    "Cantidad INT,\n",
    "PRIMARY KEY (CodigoProveedor, CodigoPieza, Fecha),\n",
    "FOREIGN KEY (CodigoProveedor) REFERENCES Proveedores(CodigoProveedor),\n",
    "FOREIGN KEY (CodigoPieza) REFERENCES Piezas(CodigoPieza)\n",
    ");\n",
    "\"\"\""
   ]
  },
  {
   "cell_type": "code",
   "execution_count": 94,
   "metadata": {},
   "outputs": [
    {
     "data": {
      "text/plain": [
       "<sqlite3.Cursor at 0x110da8fc0>"
      ]
     },
     "execution_count": 94,
     "metadata": {},
     "output_type": "execute_result"
    }
   ],
   "source": [
    "cursor.execute(tabla_suministros)"
   ]
  },
  {
   "cell_type": "code",
   "execution_count": 95,
   "metadata": {},
   "outputs": [],
   "source": [
    "# Creo los datos de dos proveedores \n",
    "\n",
    "proveedor_1 = [(1, 'Proveedor Garcia', 'Calle Tramontana 88', 'Mahon', 'Baleares')]\n",
    "proveedor_2 = [(2, 'Proveedor Perez', 'Calle Marina 56', 'CABA', 'Buenos Aires')]\n"
   ]
  },
  {
   "cell_type": "code",
   "execution_count": 113,
   "metadata": {},
   "outputs": [
    {
     "data": {
      "text/plain": [
       "<sqlite3.Cursor at 0x110da8fc0>"
      ]
     },
     "execution_count": 113,
     "metadata": {},
     "output_type": "execute_result"
    }
   ],
   "source": [
    "# Preparo al proveedor para agregar en la tabla \n",
    "cursor.executemany(\"INSERT INTO Proveedores (CodigoProveedor, Nombre, Direccion, Ciudad, Provincia) VALUES (?,?,?,?,?)\", proveedor_2)"
   ]
  },
  {
   "cell_type": "code",
   "execution_count": 114,
   "metadata": {},
   "outputs": [],
   "source": [
    "# Confirmo la operacion con el commit. \n",
    "conexion.commit()"
   ]
  },
  {
   "cell_type": "code",
   "execution_count": 115,
   "metadata": {},
   "outputs": [],
   "source": [
    "# Consulto si la base de datos tiene los objetos que agregue. \n",
    "\n",
    "cursor.execute(\"SELECT * FROM Proveedores\")\n",
    "proveedores = cursor.fetchall()"
   ]
  },
  {
   "cell_type": "code",
   "execution_count": 116,
   "metadata": {},
   "outputs": [
    {
     "name": "stdout",
     "output_type": "stream",
     "text": [
      "Proveedores registrados:\n",
      "(1, 'Proveedor Garcia', 'Calle Tramontana 88', 'Mahon', 'Baleares')\n",
      "(2, 'Proveedor Perez', 'Calle Marina 56', 'CABA', 'Buenos Aires')\n"
     ]
    }
   ],
   "source": [
    "# Mostrar los datos\n",
    "print(\"Proveedores registrados:\")\n",
    "for proveedor in proveedores:\n",
    "    print(proveedor)"
   ]
  },
  {
   "cell_type": "code",
   "execution_count": 118,
   "metadata": {},
   "outputs": [
    {
     "data": {
      "text/plain": [
       "<sqlite3.Cursor at 0x110da8fc0>"
      ]
     },
     "execution_count": 118,
     "metadata": {},
     "output_type": "execute_result"
    }
   ],
   "source": [
    "# Agrego una categoria \n",
    "categoria_1 = [(1,\"Electronica\")]\n",
    "categoria_2 = [(2,\"Muebles\")]\n",
    "\n",
    "cursor.executemany(\"INSERT INTO Categorias (CodigoCategoria, Nombre) VALUES (?,?)\", categoria_2)\n"
   ]
  },
  {
   "cell_type": "code",
   "execution_count": 119,
   "metadata": {},
   "outputs": [],
   "source": [
    "cursor.execute(\"SELECT * FROM Categorias\")\n",
    "categorias = cursor.fetchall()"
   ]
  },
  {
   "cell_type": "code",
   "execution_count": 120,
   "metadata": {},
   "outputs": [
    {
     "name": "stdout",
     "output_type": "stream",
     "text": [
      "Categorias registradas:\n",
      "(1, 'Electronica')\n",
      "(2, 'Muebles')\n"
     ]
    }
   ],
   "source": [
    "print(\"Categorias registradas:\")\n",
    "for categoria in categorias:\n",
    "    print(categoria)"
   ]
  },
  {
   "cell_type": "code",
   "execution_count": 121,
   "metadata": {},
   "outputs": [
    {
     "ename": "IntegrityError",
     "evalue": "UNIQUE constraint failed: Piezas.CodigoPieza",
     "output_type": "error",
     "traceback": [
      "\u001b[0;31m---------------------------------------------------------------------------\u001b[0m",
      "\u001b[0;31mIntegrityError\u001b[0m                            Traceback (most recent call last)",
      "Cell \u001b[0;32mIn[121], line 3\u001b[0m\n\u001b[1;32m      1\u001b[0m \u001b[38;5;66;03m# Agrego una pieza \u001b[39;00m\n\u001b[1;32m      2\u001b[0m pieza1 \u001b[38;5;241m=\u001b[39m [(\u001b[38;5;241m101\u001b[39m, \u001b[38;5;124m'\u001b[39m\u001b[38;5;124mResistor\u001b[39m\u001b[38;5;124m'\u001b[39m, \u001b[38;5;124m'\u001b[39m\u001b[38;5;124mRojo\u001b[39m\u001b[38;5;124m'\u001b[39m, \u001b[38;5;241m0.5\u001b[39m, \u001b[38;5;241m1\u001b[39m)]\n\u001b[0;32m----> 3\u001b[0m \u001b[43mcursor\u001b[49m\u001b[38;5;241;43m.\u001b[39;49m\u001b[43mexecutemany\u001b[49m\u001b[43m(\u001b[49m\u001b[38;5;124;43m\"\u001b[39;49m\u001b[38;5;124;43mINSERT INTO Piezas (CodigoPieza, Nombre, Color, Precio, CodigoCategoria) VALUES (?,?,?,?,?)\u001b[39;49m\u001b[38;5;124;43m\"\u001b[39;49m\u001b[43m,\u001b[49m\u001b[43m \u001b[49m\u001b[43mpieza1\u001b[49m\u001b[43m)\u001b[49m\n",
      "\u001b[0;31mIntegrityError\u001b[0m: UNIQUE constraint failed: Piezas.CodigoPieza"
     ]
    }
   ],
   "source": [
    "# Agrego una pieza \n",
    "pieza1 = [(101, 'Resistor', 'Rojo', 0.5, 1)]\n",
    "cursor.executemany(\"INSERT INTO Piezas (CodigoPieza, Nombre, Color, Precio, CodigoCategoria) VALUES (?,?,?,?,?)\", pieza1)\n"
   ]
  },
  {
   "cell_type": "code",
   "execution_count": 122,
   "metadata": {},
   "outputs": [],
   "source": [
    "cursor.execute(\"SELECT * FROM Piezas\")\n",
    "piezas = cursor.fetchall()"
   ]
  },
  {
   "cell_type": "code",
   "execution_count": 123,
   "metadata": {},
   "outputs": [
    {
     "name": "stdout",
     "output_type": "stream",
     "text": [
      "Piezas registradas:\n",
      "(101, 'Resistor', 'Rojo', 0.5, 1)\n"
     ]
    }
   ],
   "source": [
    "print(\"Piezas registradas:\")\n",
    "for pieza in piezas:\n",
    "    print(pieza)"
   ]
  },
  {
   "cell_type": "code",
   "execution_count": 124,
   "metadata": {},
   "outputs": [
    {
     "data": {
      "text/plain": [
       "<sqlite3.Cursor at 0x110da8fc0>"
      ]
     },
     "execution_count": 124,
     "metadata": {},
     "output_type": "execute_result"
    }
   ],
   "source": [
    "# Agrego los datos del suministro para inventario. \n",
    "suministro1 = [(1, 101, '2024-12-01', 100)]\n",
    "\n",
    "cursor.executemany(\"INSERT INTO Suministros (CodigoProveedor, CodigoPieza, Fecha, Cantidad) VALUES (?,?,?,?)\", suministro1)\n",
    "\n"
   ]
  },
  {
   "cell_type": "code",
   "execution_count": 125,
   "metadata": {},
   "outputs": [],
   "source": [
    "cursor.execute(\"SELECT * FROM Suministros\")\n",
    "suministros = cursor.fetchall()"
   ]
  },
  {
   "cell_type": "code",
   "execution_count": 126,
   "metadata": {},
   "outputs": [
    {
     "name": "stdout",
     "output_type": "stream",
     "text": [
      "Suministros registrados:\n",
      "(1, 101, '2024-12-01', 100)\n"
     ]
    }
   ],
   "source": [
    "print(\"Suministros registrados:\")\n",
    "for suministro in suministros:\n",
    "    print(suministro)"
   ]
  },
  {
   "cell_type": "code",
   "execution_count": 131,
   "metadata": {},
   "outputs": [],
   "source": [
    "\n",
    "def sql_query(query):    \n",
    "    cursor.execute(query) \n",
    "    ans = cursor.fetchall()\n",
    "    names = [description[0] for description in cursor.description]\n",
    "    return pd.DataFrame(ans,columns=names)"
   ]
  },
  {
   "cell_type": "code",
   "execution_count": 132,
   "metadata": {},
   "outputs": [
    {
     "data": {
      "text/html": [
       "<div>\n",
       "<style scoped>\n",
       "    .dataframe tbody tr th:only-of-type {\n",
       "        vertical-align: middle;\n",
       "    }\n",
       "\n",
       "    .dataframe tbody tr th {\n",
       "        vertical-align: top;\n",
       "    }\n",
       "\n",
       "    .dataframe thead th {\n",
       "        text-align: right;\n",
       "    }\n",
       "</style>\n",
       "<table border=\"1\" class=\"dataframe\">\n",
       "  <thead>\n",
       "    <tr style=\"text-align: right;\">\n",
       "      <th></th>\n",
       "      <th>CodigoProveedor</th>\n",
       "      <th>Nombre</th>\n",
       "      <th>Direccion</th>\n",
       "      <th>Ciudad</th>\n",
       "      <th>Provincia</th>\n",
       "    </tr>\n",
       "  </thead>\n",
       "  <tbody>\n",
       "    <tr>\n",
       "      <th>0</th>\n",
       "      <td>1</td>\n",
       "      <td>Proveedor Garcia</td>\n",
       "      <td>Calle Tramontana 88</td>\n",
       "      <td>Mahon</td>\n",
       "      <td>Baleares</td>\n",
       "    </tr>\n",
       "    <tr>\n",
       "      <th>1</th>\n",
       "      <td>2</td>\n",
       "      <td>Proveedor Perez</td>\n",
       "      <td>Calle Marina 56</td>\n",
       "      <td>CABA</td>\n",
       "      <td>Buenos Aires</td>\n",
       "    </tr>\n",
       "  </tbody>\n",
       "</table>\n",
       "</div>"
      ],
      "text/plain": [
       "   CodigoProveedor            Nombre            Direccion Ciudad     Provincia\n",
       "0                1  Proveedor Garcia  Calle Tramontana 88  Mahon      Baleares\n",
       "1                2   Proveedor Perez      Calle Marina 56   CABA  Buenos Aires"
      ]
     },
     "execution_count": 132,
     "metadata": {},
     "output_type": "execute_result"
    }
   ],
   "source": [
    "query = '''\n",
    "SELECT * FROM Proveedores'''\n",
    "\n",
    "sql_query(query)"
   ]
  },
  {
   "cell_type": "code",
   "execution_count": null,
   "metadata": {},
   "outputs": [],
   "source": [
    "conexion.close()"
   ]
  }
 ],
 "metadata": {
  "kernelspec": {
   "display_name": "Python 3",
   "language": "python",
   "name": "python3"
  },
  "language_info": {
   "codemirror_mode": {
    "name": "ipython",
    "version": 3
   },
   "file_extension": ".py",
   "mimetype": "text/x-python",
   "name": "python",
   "nbconvert_exporter": "python",
   "pygments_lexer": "ipython3",
   "version": "3.12.0"
  }
 },
 "nbformat": 4,
 "nbformat_minor": 2
}
